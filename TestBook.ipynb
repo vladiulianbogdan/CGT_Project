{
 "cells": [
  {
   "cell_type": "code",
   "execution_count": 6,
   "metadata": {},
   "outputs": [],
   "source": [
    "from simulation import Individual\n",
    "import numpy as np\n",
    "import matplotlib.pyplot as plt"
   ]
  },
  {
   "cell_type": "code",
   "execution_count": 9,
   "metadata": {},
   "outputs": [],
   "source": [
    "\"\"\"\n",
    "Using the example from the paper page 6 last paragraph and\n",
    "first paragraph page 7\n",
    "\"\"\"\n",
    "strategyOne = np.array([[0.0,0.1,0.0], [0.2,0.1,0.5]])\n",
    "strategyTwo = np.array([[0.1,0.5,0.1], [0.7,0.2,0.5]])\n",
    "m = 2\n",
    "omega = 2"
   ]
  },
  {
   "cell_type": "code",
   "execution_count": 10,
   "metadata": {},
   "outputs": [],
   "source": [
    "individualOne = Individual(1, strategyOne, False)\n",
    "individualTwo = Individual(1, strategyTwo, False)"
   ]
  },
  {
   "cell_type": "code",
   "execution_count": 11,
   "metadata": {},
   "outputs": [
    {
     "data": {
      "text/plain": [
       "[Wealth = 1]\n",
       "Strategy:\n",
       "[[0.  0.1 0. ]\n",
       " [0.2 0.1 0.5]]"
      ]
     },
     "execution_count": 11,
     "metadata": {},
     "output_type": "execute_result"
    }
   ],
   "source": [
    "individualOne"
   ]
  },
  {
   "cell_type": "markdown",
   "metadata": {},
   "source": [
    "----------------------------------\n",
    "# Reading .dat file\n",
    "Reading out the .dat file"
   ]
  },
  {
   "cell_type": "code",
   "execution_count": 34,
   "metadata": {},
   "outputs": [],
   "source": [
    "filename= \"TestSimulation.dat\"\n",
    "filename = \"TestHeteroSimulation.dat\""
   ]
  },
  {
   "cell_type": "code",
   "execution_count": 3,
   "metadata": {},
   "outputs": [
    {
     "data": {
      "text/plain": [
       "10009"
      ]
     },
     "execution_count": 3,
     "metadata": {},
     "output_type": "execute_result"
    }
   ],
   "source": [
    "def file_len(fname):\n",
    "    \"\"\" Returns number of lines in the file\n",
    "    \"\"\"\n",
    "    with open(fname) as f:\n",
    "        for i, l in enumerate(f):\n",
    "            pass\n",
    "    return i + 1\n",
    "\n",
    "file_len(filename)"
   ]
  },
  {
   "cell_type": "code",
   "execution_count": 38,
   "metadata": {},
   "outputs": [
    {
     "name": "stdout",
     "output_type": "stream",
     "text": [
      "(10000, 2, 4)\n",
      "[[[0.131364 0.116867 0.124591 0.103686]\n",
      "  [0.110723 0.078997 0.01636  0.003551]]\n",
      "\n",
      " [[0.134974 0.138928 0.134973 0.108955]\n",
      "  [0.104079 0.077728 0.010794 0.002323]]\n",
      "\n",
      " [[0.149297 0.136876 0.153698 0.141395]\n",
      "  [0.084747 0.053823 0.00793  0.002467]]]\n",
      "[[[0.139633 0.156932 0.03029  0.003257]\n",
      "  [0.       0.       0.       0.      ]]\n",
      "\n",
      " [[0.137211 0.170381 0.03187  0.003427]\n",
      "  [0.       0.       0.       0.      ]]\n",
      "\n",
      " [[0.133578 0.178905 0.034165 0.003669]\n",
      "  [0.       0.       0.       0.      ]]]\n"
     ]
    }
   ],
   "source": [
    "def readContributionFileToData(fileName, heterogeneous, rounds, numGenerations=None):\n",
    "    \"\"\" Read the contributions per generation of a file\n",
    "        \n",
    "        Attributes:\n",
    "            - fileName(str): String of the file name/path\n",
    "            - heterogeneous(bool): Tells if the data is heterogeneous\n",
    "            - rounds(int): Number of rounds\n",
    "            - numGenerations(int): Number of generations. Default is None, then it is manually calculated based on the file length\n",
    "        \n",
    "        Returns a multidimensional numpy array with the average contribution level:\n",
    "            - (NumGen,rounds) in the case of homogeneous\n",
    "            - (NumGen,2,rounds) in the heterogeneous where dimension 1 has is the health status.\n",
    "    \"\"\"\n",
    "    lenfile = file_len(fileName)\n",
    "    \n",
    "    if heterogeneous:\n",
    "        \n",
    "        linesHeader = 9\n",
    "        linesSummary = 3\n",
    "        linesPerGeneration = 2\n",
    "        \n",
    "        if numGenerations is None:\n",
    "            linesGenerations = lenfile - linesHeader -linesSummary\n",
    "            numGenerations = int(linesGenerations/linesPerGeneration)\n",
    "            \n",
    "        contribution = np.empty(shape = (numGenerations,2,rounds))\n",
    "        \n",
    "        with open(fileName) as file:\n",
    "            for i, line in enumerate(file):\n",
    "                if i < linesHeader:\n",
    "                    continue\n",
    "                if i >= lenfile - linesSummary:\n",
    "                    continue\n",
    "                \n",
    "                lineWealthType = (i-linesHeader)%linesPerGeneration # 0 = Rich, 1=Poor\n",
    "                generation = (i-linesHeader)//linesPerGeneration\n",
    "                \n",
    "                if lineWealthType==0:# Rich\n",
    "                    contribution[generation,0] = np.fromstring(line[2:],sep=\" \") # remove the first two characters\n",
    "                else: # Poor\n",
    "                    contribution[generation,1] = np.fromstring(line[2:],sep=\" \")\n",
    "        \n",
    "        \n",
    "    else: # Is homogeneous. In this case the contributions are just individual\n",
    "        \n",
    "        linesHeader = 7\n",
    "        linesSummary = 2\n",
    "        \n",
    "        if numGenerations is None:\n",
    "            numGenerations = lenfile - linesHeader -linesSummary\n",
    "        \n",
    "        contribution = np.empty(shape=(numGenerations,rounds))\n",
    "        \n",
    "        with open(fileName) as file:\n",
    "            for i, line in enumerate(file):\n",
    "                if i < linesHeader:\n",
    "                    continue\n",
    "                if i >= lenfile - linesSummary:\n",
    "                    continue\n",
    "                contribution[i-linesHeader] = np.fromstring(line,sep=\" \")\n",
    "                \n",
    "    return contribution\n",
    "\n",
    "contributionArray = readContributionFileToData(filename,True,4)\n",
    "print(contributionArray.shape)\n",
    "print(contributionArray[:3])\n",
    "print(contributionArray[-3:])"
   ]
  },
  {
   "cell_type": "code",
   "execution_count": 40,
   "metadata": {},
   "outputs": [
    {
     "data": {
      "image/png": "[encoded data removed]",
      "text/plain": [
       "<Figure size 1000x500 with 1 Axes>"
      ]
     },
     "metadata": {},
     "output_type": "display_data"
    }
   ],
   "source": [
    "def plotContributionVsGeneration(contributionArray,plotRich=True):\n",
    "    \"\"\" Plot contribution versus itteration\n",
    "        plotRich = True the rich are plot else the poor are plot\n",
    "        \n",
    "    \"\"\"\n",
    "    isHetero = len(contributionArray.shape)==3 # boolian that tells if it is heterogenous. \n",
    "    if isHetero:\n",
    "        IndexWealthType = 0 if plotRich else 1\n",
    "    \n",
    "    rounds = contributionArray.shape[-1]\n",
    "    fig = plt.figure(figsize=(10,5),dpi=100)\n",
    "    \n",
    "    for r in range(0,rounds):\n",
    "        if isHetero:# Is hetrogenious\n",
    "            plt.plot(contributionArray[:,IndexWealthType,r],label=f\"round={r+1}\")\n",
    "        else:\n",
    "            plt.plot(contributionArray[:,r],label=f\"round={r+1}\")\n",
    "    \n",
    "    plt.xlabel(\"iteration\",fontsize=15)\n",
    "    plt.ylabel(\"Contribution\",fontsize=15)\n",
    "    plt.title(\"Average Contribution over time\",fontsize=18)\n",
    "    plt.legend()\n",
    "    #plt.savefig(\"Contribution\")\n",
    "    \n",
    "    return fig\n",
    "    \n",
    "fig = plotContributionVsGeneration(contributionArray,plotRich=False)"
   ]
  },
  {
   "cell_type": "code",
   "execution_count": 42,
   "metadata": {},
   "outputs": [
    {
     "data": {
      "text/plain": [
       "{'alphaPoor': 0.8,\n",
       " 'alphaRich': 0.5,\n",
       " 'heterogeneous': True,\n",
       " 'lambda': 1.0,\n",
       " 'numberOfRounds': 4,\n",
       " 'popSize': 100,\n",
       " 'typeOfRiskCurve': 1,\n",
       " 'wealthPoor': 1.0,\n",
       " 'wealthRich': 4.0}"
      ]
     },
     "execution_count": 42,
     "metadata": {},
     "output_type": "execute_result"
    }
   ],
   "source": [
    "def readHeader(filename):\n",
    "    \"\"\" Extract header information return this in a dictionary\"\"\"\n",
    "    # Start with empty dictionary\n",
    "    Header = {}\n",
    "    with open(filename) as file: # Go over each line one by one and add it to the dictionary\n",
    "        Header[\"heterogeneous\"] = bool(int(file.readline()))\n",
    "        Header[\"popSize\"] = int(file.readline())\n",
    "        \n",
    "        if Header[\"heterogeneous\"]==False:\n",
    "            Header[\"wealthRich\"] = float(file.readline())\n",
    "        else:\n",
    "            Header[\"wealthRich\"] = float(file.readline())\n",
    "            Header[\"wealthPoor\"] = float(file.readline())\n",
    "            \n",
    "        Header[\"numberOfRounds\"] = int(file.readline())\n",
    "        Header[\"typeOfRiskCurve\"] = int(file.readline())\n",
    "        \n",
    "        if Header[\"heterogeneous\"]==False:\n",
    "            Header[\"alphaRich\"] = float(file.readline())\n",
    "        else: \n",
    "            Header[\"alphaRich\"] = float(file.readline())\n",
    "            Header[\"alphaPoor\"] = float(file.readline())\n",
    "            \n",
    "        Header[\"lambda\"] = float(file.readline())\n",
    "        \n",
    "    return Header\n",
    "\n",
    "readHeader(filename)"
   ]
  },
  {
   "cell_type": "code",
   "execution_count": 49,
   "metadata": {},
   "outputs": [
    {
     "data": {
      "text/plain": [
       "{'AverageContribution': 0.242318,\n",
       " 'AverageContributionPerRoundPoor': array([5.6e-05, 3.8e-05, 6.0e-06, 0.0e+00]),\n",
       " 'AverageContributionPerRoundRich': array([0.231239, 0.0078  , 0.002475, 0.      ])}"
      ]
     },
     "execution_count": 49,
     "metadata": {},
     "output_type": "execute_result"
    }
   ],
   "source": [
    "def readSummary(filename, heterogeneous):\n",
    "    \"\"\" Read the summary of a file and return it in a dictionary\"\"\"\n",
    "    lenFile = file_len(filename)\n",
    "    if heterogeneous:\n",
    "        lenSummary = 3\n",
    "    else: # homogeneous\n",
    "        lenSummary = 2\n",
    "    \n",
    "    summary = {}\n",
    "    # Sadly I don't know an easy way to just start at the end of a file.\n",
    "    countSummaryLines = 0 # Have a counter that keeps track which summary line we are evaluating\n",
    "\n",
    "    with open(filename) as file:\n",
    "        for i, line in enumerate(file):\n",
    "            if i<(lenFile-lenSummary):\n",
    "                continue\n",
    "            if i==lenFile-1: # Remove last newline character from the list line else the np.fromstring doesn't work\n",
    "                line=line[:-2]\n",
    "            \n",
    "            if countSummaryLines==0:\n",
    "                summary[\"AverageContribution\"] = float(line)\n",
    "            elif countSummaryLines==1:\n",
    "                summary[\"AverageContributionPerRoundRich\"] = np.fromstring(line,sep=\" \")\n",
    "            elif heterogeneous and countSummaryLines==2:\n",
    "                summary[\"AverageContributionPerRoundPoor\"] = np.fromstring(line,sep=\" \")\n",
    "            \n",
    "            countSummaryLines+=1\n",
    "    \n",
    "    return summary\n",
    "\n",
    "readSummary(filename,True)\n",
    "    "
   ]
  }
 ],
 "metadata": {
  "kernelspec": {
   "display_name": "Python 3",
   "language": "python",
   "name": "python3"
  },
  "language_info": {
   "codemirror_mode": {
    "name": "ipython",
    "version": 3
   },
   "file_extension": ".py",
   "mimetype": "text/x-python",
   "name": "python",
   "nbconvert_exporter": "python",
   "pygments_lexer": "ipython3",
   "version": "3.6.8"
  }
 },
 "nbformat": 4,
 "nbformat_minor": 2
}
