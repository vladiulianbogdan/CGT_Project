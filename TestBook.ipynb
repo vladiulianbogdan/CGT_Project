{
 "cells": [
  {
   "cell_type": "code",
   "execution_count": 8,
   "metadata": {},
   "outputs": [],
   "source": [
    "from simulation import Individual\n",
    "import numpy as np"
   ]
  },
  {
   "cell_type": "code",
   "execution_count": 9,
   "metadata": {},
   "outputs": [],
   "source": [
    "\"\"\"\n",
    "Using the example from the paper page 6 last paragraph and\n",
    "first paragraph page 7\n",
    "\"\"\"\n",
    "strategyOne = np.array([[0.0,0.1,0.0], [0.2,0.1,0.5]])\n",
    "strategyTwo = np.array([[0.1,0.5,0.1], [0.7,0.2,0.5]])\n",
    "m = 2\n",
    "omega = 2"
   ]
  },
  {
   "cell_type": "code",
   "execution_count": 10,
   "metadata": {},
   "outputs": [],
   "source": [
    "individualOne = Individual(1, strategyOne, False)\n",
    "individualTwo = Individual(1, strategyTwo, False)"
   ]
  },
  {
   "cell_type": "code",
   "execution_count": 11,
   "metadata": {},
   "outputs": [
    {
     "data": {
      "text/plain": [
       "[Wealth = 1]\n",
       "Strategy:\n",
       "[[0.  0.1 0. ]\n",
       " [0.2 0.1 0.5]]"
      ]
     },
     "execution_count": 11,
     "metadata": {},
     "output_type": "execute_result"
    }
   ],
   "source": [
    "individualOne"
   ]
  },
  {
   "cell_type": "code",
   "execution_count": null,
   "metadata": {},
   "outputs": [],
   "source": []
  }
 ],
 "metadata": {
  "kernelspec": {
   "display_name": "base",
   "language": "python",
   "name": "base"
  },
  "language_info": {
   "codemirror_mode": {
    "name": "ipython",
    "version": 3
   },
   "file_extension": ".py",
   "mimetype": "text/x-python",
   "name": "python",
   "nbconvert_exporter": "python",
   "pygments_lexer": "ipython3",
   "version": "3.7.4"
  }
 },
 "nbformat": 4,
 "nbformat_minor": 2
}
